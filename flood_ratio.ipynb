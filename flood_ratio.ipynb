{
 "cells": [
  {
   "cell_type": "markdown",
   "metadata": {},
   "source": [
    "# Calculate the Flood Ratio and Total Area per AOI "
   ]
  },
  {
   "cell_type": "code",
   "execution_count": 19,
   "metadata": {},
   "outputs": [
    {
     "data": {
      "text/html": [
       "\n",
       "            <style>\n",
       "                .geemap-dark {\n",
       "                    --jp-widgets-color: white;\n",
       "                    --jp-widgets-label-color: white;\n",
       "                    --jp-ui-font-color1: white;\n",
       "                    --jp-layout-color2: #454545;\n",
       "                    background-color: #383838;\n",
       "                }\n",
       "\n",
       "                .geemap-dark .jupyter-button {\n",
       "                    --jp-layout-color3: #383838;\n",
       "                }\n",
       "\n",
       "                .geemap-colab {\n",
       "                    background-color: var(--colab-primary-surface-color, white);\n",
       "                }\n",
       "\n",
       "                .geemap-colab .jupyter-button {\n",
       "                    --jp-layout-color3: var(--colab-primary-surface-color, white);\n",
       "                }\n",
       "            </style>\n",
       "            "
      ],
      "text/plain": [
       "<IPython.core.display.HTML object>"
      ]
     },
     "metadata": {},
     "output_type": "display_data"
    }
   ],
   "source": [
    "import ee\n",
    "ee.Initialize(project='ee-paulhosch')\n",
    "\n",
    "import geemap\n",
    "import pandas as pd\n",
    "\n",
    "import matplotlib.pyplot as plt\n",
    "from shapely.geometry import box\n",
    "import numpy as np"
   ]
  },
  {
   "cell_type": "code",
   "execution_count": 15,
   "metadata": {},
   "outputs": [
    {
     "data": {
      "text/html": [
       "\n",
       "            <style>\n",
       "                .geemap-dark {\n",
       "                    --jp-widgets-color: white;\n",
       "                    --jp-widgets-label-color: white;\n",
       "                    --jp-ui-font-color1: white;\n",
       "                    --jp-layout-color2: #454545;\n",
       "                    background-color: #383838;\n",
       "                }\n",
       "\n",
       "                .geemap-dark .jupyter-button {\n",
       "                    --jp-layout-color3: #383838;\n",
       "                }\n",
       "\n",
       "                .geemap-colab {\n",
       "                    background-color: var(--colab-primary-surface-color, white);\n",
       "                }\n",
       "\n",
       "                .geemap-colab .jupyter-button {\n",
       "                    --jp-layout-color3: var(--colab-primary-surface-color, white);\n",
       "                }\n",
       "            </style>\n",
       "            "
      ],
      "text/plain": [
       "<IPython.core.display.HTML object>"
      ]
     },
     "metadata": {},
     "output_type": "display_data"
    }
   ],
   "source": [
    "\n",
    "# Asset paths\n",
    "aoi_assets = {\n",
    "    \"AOI 1\": 'projects/ee-paulhosch/assets/paper_data/ger/aoi1_2024_06_02_baseImage_rev1',\n",
    "    \"AOI 2\": 'projects/ee-paulhosch/assets/paper_data/ger/aoi2_2024_06_02_baseImage_rev1',\n",
    "    \"AOI 3\": 'projects/ee-paulhosch/assets/paper_data/ger/aoi3_2024_06_02_baseImage_rev1',\n",
    "    \"AOI 4\": 'projects/ee-paulhosch/assets/paper_data/ger/aoi4_2024_06_02_baseImage_rev1',\n",
    "}\n"
   ]
  },
  {
   "cell_type": "code",
   "execution_count": 20,
   "metadata": {},
   "outputs": [
    {
     "data": {
      "text/html": [
       "\n",
       "            <style>\n",
       "                .geemap-dark {\n",
       "                    --jp-widgets-color: white;\n",
       "                    --jp-widgets-label-color: white;\n",
       "                    --jp-ui-font-color1: white;\n",
       "                    --jp-layout-color2: #454545;\n",
       "                    background-color: #383838;\n",
       "                }\n",
       "\n",
       "                .geemap-dark .jupyter-button {\n",
       "                    --jp-layout-color3: #383838;\n",
       "                }\n",
       "\n",
       "                .geemap-colab {\n",
       "                    background-color: var(--colab-primary-surface-color, white);\n",
       "                }\n",
       "\n",
       "                .geemap-colab .jupyter-button {\n",
       "                    --jp-layout-color3: var(--colab-primary-surface-color, white);\n",
       "                }\n",
       "            </style>\n",
       "            "
      ],
      "text/plain": [
       "<IPython.core.display.HTML object>"
      ]
     },
     "metadata": {},
     "output_type": "display_data"
    },
    {
     "data": {
      "text/html": [
       "<div>\n",
       "<style scoped>\n",
       "    .dataframe tbody tr th:only-of-type {\n",
       "        vertical-align: middle;\n",
       "    }\n",
       "\n",
       "    .dataframe tbody tr th {\n",
       "        vertical-align: top;\n",
       "    }\n",
       "\n",
       "    .dataframe thead th {\n",
       "        text-align: right;\n",
       "    }\n",
       "</style>\n",
       "<table border=\"1\" class=\"dataframe\">\n",
       "  <thead>\n",
       "    <tr style=\"text-align: right;\">\n",
       "      <th></th>\n",
       "      <th>AOI</th>\n",
       "      <th>No Water (0)</th>\n",
       "      <th>Flooded (1)</th>\n",
       "      <th>Permanent Water (11)</th>\n",
       "      <th>Total Area</th>\n",
       "      <th>Flood Ratio (%)</th>\n",
       "    </tr>\n",
       "  </thead>\n",
       "  <tbody>\n",
       "    <tr>\n",
       "      <th>0</th>\n",
       "      <td>AOI 1</td>\n",
       "      <td>72.25</td>\n",
       "      <td>2.07</td>\n",
       "      <td>6.55</td>\n",
       "      <td>80.86</td>\n",
       "      <td>2.9</td>\n",
       "    </tr>\n",
       "    <tr>\n",
       "      <th>1</th>\n",
       "      <td>AOI 2</td>\n",
       "      <td>70.25</td>\n",
       "      <td>5.81</td>\n",
       "      <td>4.95</td>\n",
       "      <td>81.01</td>\n",
       "      <td>8.3</td>\n",
       "    </tr>\n",
       "    <tr>\n",
       "      <th>2</th>\n",
       "      <td>AOI 3</td>\n",
       "      <td>72.52</td>\n",
       "      <td>2.76</td>\n",
       "      <td>5.71</td>\n",
       "      <td>80.99</td>\n",
       "      <td>3.8</td>\n",
       "    </tr>\n",
       "    <tr>\n",
       "      <th>3</th>\n",
       "      <td>AOI 4</td>\n",
       "      <td>74.42</td>\n",
       "      <td>2.37</td>\n",
       "      <td>4.08</td>\n",
       "      <td>80.87</td>\n",
       "      <td>3.2</td>\n",
       "    </tr>\n",
       "  </tbody>\n",
       "</table>\n",
       "</div>"
      ],
      "text/plain": [
       "     AOI  No Water (0)  Flooded (1)  Permanent Water (11)  Total Area  \\\n",
       "0  AOI 1         72.25         2.07                  6.55       80.86   \n",
       "1  AOI 2         70.25         5.81                  4.95       81.01   \n",
       "2  AOI 3         72.52         2.76                  5.71       80.99   \n",
       "3  AOI 4         74.42         2.37                  4.08       80.87   \n",
       "\n",
       "   Flood Ratio (%)  \n",
       "0              2.9  \n",
       "1              8.3  \n",
       "2              3.8  \n",
       "3              3.2  "
      ]
     },
     "metadata": {},
     "output_type": "display_data"
    }
   ],
   "source": [
    "\n",
    "# List to store results\n",
    "results = []\n",
    "\n",
    "# Loop through each AOI\n",
    "for aoi_name, asset_path in aoi_assets.items():\n",
    "    # Load the image and get label band\n",
    "    image = ee.Image(asset_path)\n",
    "    label = image.select('label')\n",
    "    geometry = image.geometry()\n",
    "\n",
    "    # Pixel area in km²\n",
    "    pixel_area = ee.Image.pixelArea().divide(1e6)\n",
    "\n",
    "    # Compute area per label\n",
    "    stats = pixel_area.addBands(label).reduceRegion(\n",
    "        reducer=ee.Reducer.sum().group(groupField=1, groupName='label'),\n",
    "        geometry=geometry,\n",
    "        scale=10,\n",
    "        maxPixels=1e13\n",
    "    ).get('groups')\n",
    "\n",
    "    stats_list = ee.List(stats).getInfo()\n",
    "    area_dict = {int(item['label']): item['sum'] for item in stats_list}\n",
    "\n",
    "    # Extract areas\n",
    "    area_no_water = area_dict.get(0, 0)\n",
    "    area_flooded = area_dict.get(1, 0)\n",
    "    area_perm_water = area_dict.get(11, 0)\n",
    "    total_area = sum(area_dict.values())\n",
    "    \n",
    "    # Calculate flood ratio\n",
    "    flood_ratio = round(area_flooded / area_no_water, 3) if area_no_water > 0 else 0\n",
    "\n",
    "    results.append({\n",
    "        'AOI': aoi_name,\n",
    "        'No Water (0)': round(area_no_water, 2),\n",
    "        'Flooded (1)': round(area_flooded, 2),\n",
    "        'Permanent Water (11)': round(area_perm_water, 2),\n",
    "        'Total Area': round(total_area, 2),\n",
    "        'Flood Ratio (%)': round(flood_ratio*100, 2)\n",
    "    })\n",
    "\n",
    "# Convert results to DataFrame and display\n",
    "df = pd.DataFrame(results)\n",
    "display(df)"
   ]
  },
  {
   "cell_type": "code",
   "execution_count": 21,
   "metadata": {},
   "outputs": [
    {
     "data": {
      "text/html": [
       "\n",
       "            <style>\n",
       "                .geemap-dark {\n",
       "                    --jp-widgets-color: white;\n",
       "                    --jp-widgets-label-color: white;\n",
       "                    --jp-ui-font-color1: white;\n",
       "                    --jp-layout-color2: #454545;\n",
       "                    background-color: #383838;\n",
       "                }\n",
       "\n",
       "                .geemap-dark .jupyter-button {\n",
       "                    --jp-layout-color3: #383838;\n",
       "                }\n",
       "\n",
       "                .geemap-colab {\n",
       "                    background-color: var(--colab-primary-surface-color, white);\n",
       "                }\n",
       "\n",
       "                .geemap-colab .jupyter-button {\n",
       "                    --jp-layout-color3: var(--colab-primary-surface-color, white);\n",
       "                }\n",
       "            </style>\n",
       "            "
      ],
      "text/plain": [
       "<IPython.core.display.HTML object>"
      ]
     },
     "metadata": {},
     "output_type": "display_data"
    },
    {
     "data": {
      "image/png": "[encoded data removed]",
      "text/plain": [
       "<Figure size 1000x800 with 1 Axes>"
      ]
     },
     "metadata": {},
     "output_type": "display_data"
    }
   ],
   "source": [
    "# Create figure and axis\n",
    "fig, ax = plt.subplots(figsize=(10, 8))\n",
    "\n",
    "# Colors for different AOIs\n",
    "colors = ['#1f77b4', '#ff7f0e', '#2ca02c', '#d62728']\n",
    "\n",
    "# Store bounding boxes for each AOI\n",
    "for idx, (aoi_name, asset_path) in enumerate(aoi_assets.items()):\n",
    "    # Get geometry bounds\n",
    "    geometry = ee.Image(asset_path).geometry()\n",
    "    bounds = geometry.bounds().coordinates().get(0).getInfo()\n",
    "    coords = [(pt[0], pt[1]) for pt in bounds]\n",
    "    \n",
    "    # Calculate bounding box coordinates\n",
    "    minx = min([x for x, y in coords])\n",
    "    maxx = max([x for x, y in coords])\n",
    "    miny = min([y for x, y in coords])\n",
    "    maxy = max([y for x, y in coords])\n",
    "    \n",
    "    # Create and plot rectangle\n",
    "    rect = plt.Rectangle((minx, miny), maxx-minx, maxy-miny,\n",
    "                        fill=False, color=colors[idx], linewidth=2,\n",
    "                        label=aoi_name)\n",
    "    ax.add_patch(rect)\n",
    "    \n",
    "    # Add label at center of box\n",
    "    center_x = (minx + maxx) / 2\n",
    "    center_y = (miny + maxy) / 2\n",
    "    ax.text(center_x, center_y, aoi_name, \n",
    "            horizontalalignment='center',\n",
    "            verticalalignment='center',\n",
    "            color=colors[idx],\n",
    "            fontweight='bold')\n",
    "\n",
    "# Set axis labels and title\n",
    "ax.set_xlabel('Longitude')\n",
    "ax.set_ylabel('Latitude')\n",
    "ax.set_title('Study Areas (AOIs)')\n",
    "\n",
    "# Add legend\n",
    "ax.legend()\n",
    "\n",
    "# Adjust plot limits with some padding\n",
    "ax.margins(0.1)\n",
    "\n",
    "# Use equal aspect ratio to prevent distortion\n",
    "ax.set_aspect('equal')\n",
    "\n",
    "plt.show()"
   ]
  },
  {
   "cell_type": "markdown",
   "metadata": {},
   "source": []
  }
 ],
 "metadata": {
  "kernelspec": {
   "display_name": "Python 3",
   "language": "python",
   "name": "python3"
  },
  "language_info": {
   "codemirror_mode": {
    "name": "ipython",
    "version": 3
   },
   "file_extension": ".py",
   "mimetype": "text/x-python",
   "name": "python",
   "nbconvert_exporter": "python",
   "pygments_lexer": "ipython3",
   "version": "3.12.2"
  }
 },
 "nbformat": 4,
 "nbformat_minor": 2
}
