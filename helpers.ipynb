{
 "cells": [
  {
   "cell_type": "code",
   "execution_count": 5,
   "metadata": {},
   "outputs": [],
   "source": [
    "import import_ipynb"
   ]
  },
  {
   "cell_type": "code",
   "execution_count": 2,
   "metadata": {},
   "outputs": [],
   "source": [
    "def get_dataset_path(configurations, config_name, site, sample_size, data_path, is_train=True, is_balanced=False):\n",
    "    \"\"\"\n",
    "    Generate dataset path dynamically for training data and use a fixed dataset for testing.\n",
    "    \"\"\"\n",
    "    if is_train:\n",
    "        # Dynamically generate training dataset paths\n",
    "        dataset_template = configurations[config_name][\"dataset_template\"]\n",
    "        dataset_filename = dataset_template.format(sample_size=sample_size)\n",
    "        dataset_filename = f\"{sample_size}/{dataset_filename}\"\n",
    "    else:\n",
    "        # Always use the stratified balanced dataset for testing\n",
    "        dataset_filename = f\"1000/simple_random_1000_rev1.csv\"\n",
    "        if is_balanced:\n",
    "            dataset_filename = f\"1000/stratified_balanced_1000_rev1.csv\"\n",
    "    \n",
    "    return f\"{data_path}/{site}/{dataset_filename}\""
   ]
  },
  {
   "cell_type": "code",
   "execution_count": 3,
   "metadata": {},
   "outputs": [],
   "source": [
    "def initialize_model(configurations, config_name):\n",
    "    \"\"\"\n",
    "    Initialize the model with fixed parameters based on the configuration.\n",
    "    \"\"\"\n",
    "    config = configurations[config_name]\n",
    "    return config[\"model\"](**config[\"fixed_params\"])"
   ]
  },
  {
   "cell_type": "code",
   "execution_count": 4,
   "metadata": {},
   "outputs": [],
   "source": [
    "from sklearn.metrics import accuracy_score, f1_score\n",
    "\n",
    "def evaluate_model(model, X_test, y_test):\n",
    "    \"\"\"\n",
    "    Evaluate the model and return metrics including OA, F1, and AP.\n",
    "    \"\"\"\n",
    "     # Predict probabilities\n",
    "    y_scores = model.predict_proba(X_test)[:, 1] if hasattr(model, \"predict_proba\") else model.decision_function(X_test)\n",
    "              \n",
    "    y_pred = model.predict(X_test)\n",
    "    oa_score = accuracy_score(y_test, y_pred)\n",
    "    f1 = f1_score(y_test, y_pred, average=\"weighted\")\n",
    "    \n",
    "    return oa_score, f1\n"
   ]
  },
  {
   "cell_type": "code",
   "execution_count": null,
   "metadata": {},
   "outputs": [],
   "source": []
  }
 ],
 "metadata": {
  "kernelspec": {
   "display_name": "venv_class_imbalance",
   "language": "python",
   "name": "python3"
  },
  "language_info": {
   "codemirror_mode": {
    "name": "ipython",
    "version": 3
   },
   "file_extension": ".py",
   "mimetype": "text/x-python",
   "name": "python",
   "nbconvert_exporter": "python",
   "pygments_lexer": "ipython3",
   "version": "3.12.2"
  }
 },
 "nbformat": 4,
 "nbformat_minor": 2
}
